{
  "nbformat": 4,
  "nbformat_minor": 0,
  "metadata": {
    "colab": {
      "provenance": []
    },
    "kernelspec": {
      "name": "python3",
      "display_name": "Python 3"
    },
    "language_info": {
      "name": "python"
    }
  },
  "cells": [
    {
      "cell_type": "code",
      "execution_count": 1,
      "metadata": {
        "colab": {
          "base_uri": "https://localhost:8080/"
        },
        "id": "sptUhdy0mWs2",
        "outputId": "2802b87c-4cc7-43ff-d577-6481ee93667d"
      },
      "outputs": [
        {
          "output_type": "execute_result",
          "data": {
            "text/plain": [
              "['Gujarat', 'Rajasthan', 'Andhra Pradesh', 'Punjab', 'Kerala']"
            ]
          },
          "metadata": {},
          "execution_count": 1
        }
      ],
      "source": [
        "# Create a list of five Indian States Eg: [Gujarat, Rajasthan, Andhra Pradesh, Punjab, Kerala]\n",
        "\n",
        "list1=['Gujarat', 'Rajasthan', 'Andhra Pradesh', 'Punjab', 'Kerala']\n",
        "list1"
      ]
    },
    {
      "cell_type": "code",
      "source": [
        "#Create a list of five Indian States capitals Eg: [Gandhinagar, Jaipur, Visakhapatnam, Chandigarh, Thiruvananthapuram]\n",
        "\n",
        "list2=['Gandhinagar', 'Jaipur', 'Visakhapatnam', 'Chandigarh', 'Thiruvananthapuram']\n",
        "list2\n"
      ],
      "metadata": {
        "colab": {
          "base_uri": "https://localhost:8080/"
        },
        "id": "GnyMRX3Hm0aP",
        "outputId": "6c3a6897-6ebf-4ae2-efb0-4d5ed83b0fba"
      },
      "execution_count": 2,
      "outputs": [
        {
          "output_type": "execute_result",
          "data": {
            "text/plain": [
              "['Gandhinagar', 'Jaipur', 'Visakhapatnam', 'Chandigarh', 'Thiruvananthapuram']"
            ]
          },
          "metadata": {},
          "execution_count": 2
        }
      ]
    },
    {
      "cell_type": "code",
      "source": [
        "#Create a dictionary using the above two lists\n",
        "\n",
        "dictionary=dict(zip(list1,list2))\n",
        "dictionary"
      ],
      "metadata": {
        "colab": {
          "base_uri": "https://localhost:8080/"
        },
        "id": "8qwcV0e_nNHk",
        "outputId": "7d34cc03-3887-45e4-e40d-bfc5d587dc1a"
      },
      "execution_count": 4,
      "outputs": [
        {
          "output_type": "execute_result",
          "data": {
            "text/plain": [
              "{'Gujarat': 'Gandhinagar',\n",
              " 'Rajasthan': 'Jaipur',\n",
              " 'Andhra Pradesh': 'Visakhapatnam',\n",
              " 'Punjab': 'Chandigarh',\n",
              " 'Kerala': 'Thiruvananthapuram'}"
            ]
          },
          "metadata": {},
          "execution_count": 4
        }
      ]
    },
    {
      "cell_type": "code",
      "source": [
        "#Display the capital of Gujarat.\n",
        "\n",
        "dictionary['Gujarat']"
      ],
      "metadata": {
        "colab": {
          "base_uri": "https://localhost:8080/",
          "height": 36
        },
        "id": "ykvQqbd0nb8Z",
        "outputId": "91cc90f9-5095-433c-ed66-6a1d150c3354"
      },
      "execution_count": 5,
      "outputs": [
        {
          "output_type": "execute_result",
          "data": {
            "text/plain": [
              "'Gandhinagar'"
            ],
            "application/vnd.google.colaboratory.intrinsic+json": {
              "type": "string"
            }
          },
          "metadata": {},
          "execution_count": 5
        }
      ]
    }
  ]
}
