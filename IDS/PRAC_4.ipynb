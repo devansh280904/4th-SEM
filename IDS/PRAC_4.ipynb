{
  "nbformat": 4,
  "nbformat_minor": 0,
  "metadata": {
    "colab": {
      "provenance": []
    },
    "kernelspec": {
      "name": "python3",
      "display_name": "Python 3"
    },
    "language_info": {
      "name": "python"
    }
  },
  "cells": [
    {
      "cell_type": "code",
      "execution_count": 24,
      "metadata": {
        "colab": {
          "base_uri": "https://localhost:8080/"
        },
        "id": "bqA-kxVJoIJ0",
        "outputId": "2692493b-c0fc-4d98-8d71-40b0c7437631"
      },
      "outputs": [
        {
          "name": "stdout",
          "output_type": "stream",
          "text": [
            "Enter a sentence:this is file for python practicals\n"
          ]
        }
      ],
      "source": [
        "#Create a list of words from the sentence given by the user.\n",
        "\n",
        "words=input('Enter a sentence:').split()"
      ]
    },
    {
      "cell_type": "code",
      "source": [
        "#Join the above created list of words using ‘#’ symbol.\n",
        "\n",
        "joined='#'.join(words)\n",
        "print(joined)"
      ],
      "metadata": {
        "colab": {
          "base_uri": "https://localhost:8080/"
        },
        "id": "bAjr1V50osiV",
        "outputId": "2ee1d733-8552-4470-fa2e-db4304debd51"
      },
      "execution_count": 25,
      "outputs": [
        {
          "output_type": "stream",
          "name": "stdout",
          "text": [
            "this#is#file#for#python#practicals\n"
          ]
        }
      ]
    },
    {
      "cell_type": "code",
      "source": [
        "#Replace a substring of the main string with another string.\n",
        "\n",
        "ss=input('Enter substring to replace:')\n",
        "r=input('Enter the replacement string:')\n",
        "rs=joined.replace(ss,r)\n",
        "print(rs)\n"
      ],
      "metadata": {
        "colab": {
          "base_uri": "https://localhost:8080/"
        },
        "id": "xpoW4UTipPch",
        "outputId": "a21255bf-7afe-4436-f513-270dbd010333"
      },
      "execution_count": 26,
      "outputs": [
        {
          "output_type": "stream",
          "name": "stdout",
          "text": [
            "Enter substring to replace:file\n",
            "Enter the replacement string:final file\n",
            "this#is#final file#for#python#practicals\n"
          ]
        }
      ]
    },
    {
      "cell_type": "code",
      "source": [
        "#Check whether the main string starts with the given string\n",
        "\n",
        "x=input('Enter string to check whether it starts from it:')\n",
        "starts=rs.startswith(x)\n",
        "print(starts)\n"
      ],
      "metadata": {
        "colab": {
          "base_uri": "https://localhost:8080/"
        },
        "id": "i21VQz2kqh2s",
        "outputId": "b45dd888-42ca-4585-b3b0-8efc90428292"
      },
      "execution_count": 27,
      "outputs": [
        {
          "output_type": "stream",
          "name": "stdout",
          "text": [
            "Enter string to check whether it starts from it:is\n",
            "False\n"
          ]
        }
      ]
    },
    {
      "cell_type": "code",
      "source": [
        "#Check whether the main string ends with the given string\n",
        "\n",
        "y=input('Enter string to check whether it ends with it:')\n",
        "ends=rs.endswith(y)\n",
        "print(ends)"
      ],
      "metadata": {
        "colab": {
          "base_uri": "https://localhost:8080/"
        },
        "id": "bOuVLUm3r7Uw",
        "outputId": "d04b7eba-837b-4d02-dc77-7210b390f69d"
      },
      "execution_count": 29,
      "outputs": [
        {
          "output_type": "stream",
          "name": "stdout",
          "text": [
            "Enter string to check whether it ends with it:practicals\n",
            "True\n"
          ]
        }
      ]
    },
    {
      "cell_type": "code",
      "source": [
        "#Remove extra space from the given string using strip() method\n",
        "\n",
        "str=input('Enter a strint with extra space:')\n",
        "stripped=str.strip()\n",
        "print(stripped)"
      ],
      "metadata": {
        "colab": {
          "base_uri": "https://localhost:8080/"
        },
        "id": "O0HBZmxHsq2l",
        "outputId": "7db12c58-1820-4600-feb4-2bf52ae9218b"
      },
      "execution_count": 54,
      "outputs": [
        {
          "output_type": "stream",
          "name": "stdout",
          "text": [
            "Enter a strint with extra space:    hello world     \n",
            "hello world\n"
          ]
        }
      ]
    },
    {
      "cell_type": "code",
      "source": [
        "#Check whether the given string is numeric or not.\n",
        "\n",
        "str1=input('Enter a string to check whether is is numeric:')\n",
        "if(str1.isnumeric()):\n",
        "  print('Given string is numeric')\n",
        "else:\n",
        "  print('Given string is not numeric')"
      ],
      "metadata": {
        "colab": {
          "base_uri": "https://localhost:8080/"
        },
        "id": "jojqK78MuRNi",
        "outputId": "2a79e678-237b-436d-cc20-163efeb9f582"
      },
      "execution_count": 55,
      "outputs": [
        {
          "output_type": "stream",
          "name": "stdout",
          "text": [
            "Enter a string to check whether is is numeric:5\n",
            "Given string is numeric\n"
          ]
        }
      ]
    },
    {
      "cell_type": "code",
      "source": [
        "#Write a program to check given input is palindrome or not\n",
        "str2=input(\"Enter a string to check whether it is a palindrome:\")\n",
        "if str2==str2[::-1]:\n",
        "  print('Given string is palindrome:')\n",
        "else:\n",
        "  print('Given string is not palindrom')\n"
      ],
      "metadata": {
        "colab": {
          "base_uri": "https://localhost:8080/"
        },
        "id": "6E_S4k_HxI-5",
        "outputId": "97144d4a-6890-44d8-d1c3-a83df46786a8"
      },
      "execution_count": 56,
      "outputs": [
        {
          "output_type": "stream",
          "name": "stdout",
          "text": [
            "Enter a string to check whether it is a palindrome:rotator\n",
            "Given string is palindrome:\n"
          ]
        }
      ]
    }
  ]
}