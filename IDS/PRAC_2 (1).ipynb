{
  "nbformat": 4,
  "nbformat_minor": 0,
  "metadata": {
    "colab": {
      "provenance": []
    },
    "kernelspec": {
      "name": "python3",
      "display_name": "Python 3"
    },
    "language_info": {
      "name": "python"
    }
  },
  "cells": [
    {
      "cell_type": "code",
      "execution_count": 1,
      "metadata": {
        "colab": {
          "base_uri": "https://localhost:8080/"
        },
        "id": "LKa-P831i9to",
        "outputId": "e41bce6b-7780-4961-f1c4-ae5a0b9a659d"
      },
      "outputs": [
        {
          "output_type": "execute_result",
          "data": {
            "text/plain": [
              "(1, 2, 3, 'data', 'science', 2, 3)"
            ]
          },
          "metadata": {},
          "execution_count": 1
        }
      ],
      "source": [
        "#Create a tuple with elements 1,2,3, ‘data’, “science”, 2, 3\n",
        "\n",
        "t1=(1,2,3,\"data\",\"science\",2,3)\n",
        "t1"
      ]
    },
    {
      "cell_type": "code",
      "source": [
        "#Display the third element from the  tuple.\n",
        "\n",
        "t1[2]"
      ],
      "metadata": {
        "colab": {
          "base_uri": "https://localhost:8080/"
        },
        "id": "5X1RLl73jRK9",
        "outputId": "62bbcd87-f621-463a-a276-4f1429fa5774"
      },
      "execution_count": 2,
      "outputs": [
        {
          "output_type": "execute_result",
          "data": {
            "text/plain": [
              "3"
            ]
          },
          "metadata": {},
          "execution_count": 2
        }
      ]
    },
    {
      "cell_type": "code",
      "source": [
        "#Display every alternate element starting at index 1.\n",
        "\n",
        "t1[1::2]"
      ],
      "metadata": {
        "colab": {
          "base_uri": "https://localhost:8080/"
        },
        "id": "OL9_R93gjaQt",
        "outputId": "12eabea5-5f8f-4651-865f-c92428f357b7"
      },
      "execution_count": 3,
      "outputs": [
        {
          "output_type": "execute_result",
          "data": {
            "text/plain": [
              "(2, 'data', 2)"
            ]
          },
          "metadata": {},
          "execution_count": 3
        }
      ]
    },
    {
      "cell_type": "code",
      "source": [
        "#Display the number of occurrence of element 2\n",
        "\n",
        "t1.count(2)"
      ],
      "metadata": {
        "colab": {
          "base_uri": "https://localhost:8080/"
        },
        "id": "O2murF9Ojd3e",
        "outputId": "150b9dd4-5e8e-4990-a7dd-7f2c7bef78b8"
      },
      "execution_count": 4,
      "outputs": [
        {
          "output_type": "execute_result",
          "data": {
            "text/plain": [
              "2"
            ]
          },
          "metadata": {},
          "execution_count": 4
        }
      ]
    },
    {
      "cell_type": "code",
      "source": [
        "#Display the index location of element 3 (perform with exception handling)\n",
        "\n",
        "t2=(1,9,3,1,2,6,7,1,6,7)\n",
        "try:\n",
        "    print(t2.index(7))\n",
        "except ValueError:\n",
        "    print(\"ELEMENT NOT FOUND\")"
      ],
      "metadata": {
        "colab": {
          "base_uri": "https://localhost:8080/"
        },
        "id": "tpzC0pZ-jjra",
        "outputId": "29fb4275-b845-41dc-b2c0-4880c30d049d"
      },
      "execution_count": 5,
      "outputs": [
        {
          "output_type": "stream",
          "name": "stdout",
          "text": [
            "6\n"
          ]
        }
      ]
    },
    {
      "cell_type": "code",
      "source": [
        "#Create a list of n numbers given by the user. Eg: [1,3,5,6,3,2,5,6]\n",
        "\n",
        "l1=[]\n",
        "n=int(input(\"ENTER TOTAL NUMBERS IN LIST:\"))\n",
        "for i in range(n):\n",
        "    a=int(input(\"ENTER  VALUE:\"))\n",
        "    l1.append(a)\n",
        "print(l1)"
      ],
      "metadata": {
        "colab": {
          "base_uri": "https://localhost:8080/"
        },
        "id": "6laCZQVXjqV1",
        "outputId": "6b4dc534-4052-46b2-b9e9-042149c043c8"
      },
      "execution_count": 6,
      "outputs": [
        {
          "output_type": "stream",
          "name": "stdout",
          "text": [
            "ENTER TOTAL NUMBERS IN LIST:8\n",
            "ENTER  VALUE:1\n",
            "ENTER  VALUE:3\n",
            "ENTER  VALUE:5\n",
            "ENTER  VALUE:6\n",
            "ENTER  VALUE:3\n",
            "ENTER  VALUE:2\n",
            "ENTER  VALUE:5\n",
            "ENTER  VALUE:6\n",
            "[1, 3, 5, 6, 3, 2, 5, 6]\n"
          ]
        }
      ]
    },
    {
      "cell_type": "code",
      "source": [
        "#Display sum of numbers given in the above created list.\n",
        "\n",
        "print(sum(l1))"
      ],
      "metadata": {
        "colab": {
          "base_uri": "https://localhost:8080/"
        },
        "id": "Knt7zf1kj5hO",
        "outputId": "4737b8d5-27b1-4c01-fe99-2bcf39eba649"
      },
      "execution_count": 7,
      "outputs": [
        {
          "output_type": "stream",
          "name": "stdout",
          "text": [
            "31\n"
          ]
        }
      ]
    },
    {
      "cell_type": "code",
      "source": [
        "#Remove duplicate elements from the above created list.\n",
        "\n",
        "print(list(set(l1)))"
      ],
      "metadata": {
        "colab": {
          "base_uri": "https://localhost:8080/"
        },
        "id": "lyQMWrqzkMTh",
        "outputId": "744c5289-cc00-4b2e-edca-4bf1666356bf"
      },
      "execution_count": 8,
      "outputs": [
        {
          "output_type": "stream",
          "name": "stdout",
          "text": [
            "[1, 2, 3, 5, 6]\n"
          ]
        }
      ]
    },
    {
      "cell_type": "code",
      "source": [
        "#Extend the list with the tuple created above. (extend method of list)\n",
        "\n",
        "l1.extend(t1)\n",
        "print(l1)"
      ],
      "metadata": {
        "colab": {
          "base_uri": "https://localhost:8080/"
        },
        "id": "3et-RZF4kYgC",
        "outputId": "fe260c44-0e9c-4b87-e62a-93272951dcac"
      },
      "execution_count": 10,
      "outputs": [
        {
          "output_type": "stream",
          "name": "stdout",
          "text": [
            "[1, 3, 5, 6, 3, 2, 5, 6, 1, 2, 3, 'data', 'science', 2, 3, 1, 2, 3, 'data', 'science', 2, 3]\n"
          ]
        }
      ]
    }
  ]
}