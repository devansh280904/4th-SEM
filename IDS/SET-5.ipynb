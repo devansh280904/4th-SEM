{
 "cells": [
  {
   "cell_type": "code",
   "execution_count": 4,
   "id": "341a6071",
   "metadata": {},
   "outputs": [
    {
     "name": "stdout",
     "output_type": "stream",
     "text": [
      "Result of the given Integral: 0.14558175869954834\n",
      "Estimated error: 1.6162822047366225e-15\n"
     ]
    }
   ],
   "source": [
    "from scipy import integrate\n",
    "import numpy as np\n",
    "\n",
    "def integrand(x):\n",
    "    return x**2 * np.sin(2*x) * np.exp(-x)\n",
    "\n",
    "lower_limit=0\n",
    "upper_limit=1\n",
    "\n",
    "result, error= integrate.quad(integrand, lower_limit, upper_limit)\n",
    "print(\"Result of the given Integral:\",result)\n",
    "print(\"Estimated error:\",error)"
   ]
  },
  {
   "cell_type": "code",
   "execution_count": 9,
   "id": "8fd75a9e",
   "metadata": {},
   "outputs": [
    {
     "name": "stdout",
     "output_type": "stream",
     "text": [
      "2*x + 3\n"
     ]
    }
   ],
   "source": [
    "from sympy import symbols, diff\n",
    "x=symbols('x')\n",
    "expr=x**2 + 3*x + 4\n",
    "derivative=diff(expr, x)\n",
    "print(derivative)"
   ]
  }
 ],
 "metadata": {
  "kernelspec": {
   "display_name": "Python 3 (ipykernel)",
   "language": "python",
   "name": "python3"
  },
  "language_info": {
   "codemirror_mode": {
    "name": "ipython",
    "version": 3
   },
   "file_extension": ".py",
   "mimetype": "text/x-python",
   "name": "python",
   "nbconvert_exporter": "python",
   "pygments_lexer": "ipython3",
   "version": "3.11.5"
  }
 },
 "nbformat": 4,
 "nbformat_minor": 5
}
