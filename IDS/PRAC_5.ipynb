{
  "nbformat": 4,
  "nbformat_minor": 0,
  "metadata": {
    "colab": {
      "provenance": []
    },
    "kernelspec": {
      "name": "python3",
      "display_name": "Python 3"
    },
    "language_info": {
      "name": "python"
    }
  },
  "cells": [
    {
      "cell_type": "code",
      "execution_count": null,
      "metadata": {
        "colab": {
          "base_uri": "https://localhost:8080/"
        },
        "id": "N0I-6WjZRPE6",
        "outputId": "e52b312a-ee88-45f9-821b-c4928546c087"
      },
      "outputs": [
        {
          "output_type": "stream",
          "name": "stdout",
          "text": [
            "[20 19 18 17 16 15 14 13 12 11 10  9  8  7  6  5  4  3  2  1]\n"
          ]
        }
      ],
      "source": [
        "#Create an array of numbers from one to twenty in reverse order.\n",
        "\n",
        "import numpy as np\n",
        "numbers=np.arange(20,0,-1)\n",
        "print(numbers)"
      ]
    },
    {
      "cell_type": "code",
      "source": [
        "#Create an array of 10 numbers which is evenly spaced in the range of 1 to 5.\n",
        "\n",
        "import numpy as np\n",
        "numbers=np.linspace(1,5,10)\n",
        "print(numbers)"
      ],
      "metadata": {
        "colab": {
          "base_uri": "https://localhost:8080/"
        },
        "id": "3f6amcdFXVwW",
        "outputId": "300d99ed-b7b7-4e0f-84ae-787b227a68d7"
      },
      "execution_count": null,
      "outputs": [
        {
          "output_type": "stream",
          "name": "stdout",
          "text": [
            "[1.         1.44444444 1.88888889 2.33333333 2.77777778 3.22222222\n",
            " 3.66666667 4.11111111 4.55555556 5.        ]\n"
          ]
        }
      ]
    },
    {
      "cell_type": "code",
      "source": [
        "#Create an array of 10 numbers which is evenly spaced in the range of 1 to 5 on log scale.\n",
        "\n",
        "import numpy as np\n",
        "numb=np.logspace(1,5,10)\n",
        "print(numb)"
      ],
      "metadata": {
        "colab": {
          "base_uri": "https://localhost:8080/"
        },
        "id": "HPF8LofIUVfA",
        "outputId": "19cf1118-6db2-4101-e186-e6d32e00cb3d"
      },
      "execution_count": null,
      "outputs": [
        {
          "output_type": "stream",
          "name": "stdout",
          "text": [
            "[1.00000000e+01 2.78255940e+01 7.74263683e+01 2.15443469e+02\n",
            " 5.99484250e+02 1.66810054e+03 4.64158883e+03 1.29154967e+04\n",
            " 3.59381366e+04 1.00000000e+05]\n"
          ]
        }
      ]
    },
    {
      "cell_type": "code",
      "source": [
        "#Create an array of 10 random numbers in the range of 200 to 300.\n",
        "\n",
        "import numpy as np\n",
        "numbers=np.random.randint(200,300,10)\n",
        "print(numbers)"
      ],
      "metadata": {
        "colab": {
          "base_uri": "https://localhost:8080/"
        },
        "id": "6wpmWj4HWRmx",
        "outputId": "ee735702-0887-48b2-fd5e-3cea52bb4439"
      },
      "execution_count": null,
      "outputs": [
        {
          "output_type": "stream",
          "name": "stdout",
          "text": [
            "[239 285 268 245 262 200 252 266 290 291]\n"
          ]
        }
      ]
    },
    {
      "cell_type": "code",
      "source": [
        "#Create a 2D array of size 2X3 with all elements filled with 8\n",
        "a1=np.full((2,3),8)\n",
        "a1"
      ],
      "metadata": {
        "colab": {
          "base_uri": "https://localhost:8080/"
        },
        "id": "5ftkv2RHWeLz",
        "outputId": "f8c5f03a-a974-4f32-a170-abf558a8f546"
      },
      "execution_count": null,
      "outputs": [
        {
          "output_type": "execute_result",
          "data": {
            "text/plain": [
              "array([[8, 8, 8],\n",
              "       [8, 8, 8]])"
            ]
          },
          "metadata": {},
          "execution_count": 24
        }
      ]
    },
    {
      "cell_type": "code",
      "source": [
        "# Create a 2D array of size 4X3 with all elements in the range of 1 to 12 and perform following operations:\n",
        "#Display the created array.\n",
        "a2=np.arange(1,13)\n",
        "a2=a2.reshape(4,3)\n",
        "a2\n"
      ],
      "metadata": {
        "colab": {
          "base_uri": "https://localhost:8080/"
        },
        "id": "dXW03tTqW7CR",
        "outputId": "b809e236-7d83-4824-84e6-f2fd9aa4325e"
      },
      "execution_count": null,
      "outputs": [
        {
          "output_type": "execute_result",
          "data": {
            "text/plain": [
              "array([[ 1,  2,  3],\n",
              "       [ 4,  5,  6],\n",
              "       [ 7,  8,  9],\n",
              "       [10, 11, 12]])"
            ]
          },
          "metadata": {},
          "execution_count": 31
        }
      ]
    },
    {
      "cell_type": "code",
      "source": [
        "#Display the second row of the created array.\n",
        "\n",
        "a2[1]"
      ],
      "metadata": {
        "colab": {
          "base_uri": "https://localhost:8080/"
        },
        "id": "OnnR1Y-rXymJ",
        "outputId": "92769096-00c1-4d13-d94c-d8099f567ea0"
      },
      "execution_count": null,
      "outputs": [
        {
          "output_type": "execute_result",
          "data": {
            "text/plain": [
              "array([4, 5, 6])"
            ]
          },
          "metadata": {},
          "execution_count": 28
        }
      ]
    },
    {
      "cell_type": "code",
      "source": [
        "#Display the second column of the created array.\n",
        "\n",
        "a2[:,1]"
      ],
      "metadata": {
        "colab": {
          "base_uri": "https://localhost:8080/"
        },
        "id": "U45UN54sX9VR",
        "outputId": "9661f868-6e43-46d0-be9e-44232fcd4ffa"
      },
      "execution_count": null,
      "outputs": [
        {
          "output_type": "execute_result",
          "data": {
            "text/plain": [
              "array([ 2,  5,  8, 11])"
            ]
          },
          "metadata": {},
          "execution_count": 29
        }
      ]
    },
    {
      "cell_type": "code",
      "source": [
        "#Display alternate columns of the created array.\n",
        "\n",
        "a2[:,::2]"
      ],
      "metadata": {
        "colab": {
          "base_uri": "https://localhost:8080/"
        },
        "id": "n9Scx1-CYHiC",
        "outputId": "41215331-7705-4218-d9a1-88a95121eb2a"
      },
      "execution_count": null,
      "outputs": [
        {
          "output_type": "execute_result",
          "data": {
            "text/plain": [
              "array([[ 1,  3],\n",
              "       [ 4,  6],\n",
              "       [ 7,  9],\n",
              "       [10, 12]])"
            ]
          },
          "metadata": {},
          "execution_count": 36
        }
      ]
    },
    {
      "cell_type": "code",
      "source": [
        "#Display second and fourth row of the created array\n",
        "\n",
        "a2[1::2,:]"
      ],
      "metadata": {
        "colab": {
          "base_uri": "https://localhost:8080/"
        },
        "id": "FKB4RVxSYXWk",
        "outputId": "4a4ffaf1-cf86-4a5f-8341-08dd56f4adec"
      },
      "execution_count": null,
      "outputs": [
        {
          "output_type": "execute_result",
          "data": {
            "text/plain": [
              "array([[ 4,  5,  6],\n",
              "       [10, 11, 12]])"
            ]
          },
          "metadata": {},
          "execution_count": 37
        }
      ]
    },
    {
      "cell_type": "code",
      "source": [
        "#Display odd rows and even column.\n",
        "\n",
        "a2[0::2,1::2]"
      ],
      "metadata": {
        "colab": {
          "base_uri": "https://localhost:8080/"
        },
        "id": "Ny90O3v9akzi",
        "outputId": "f3fa36ec-2125-4794-d44f-74c3dc63e9ad"
      },
      "execution_count": null,
      "outputs": [
        {
          "output_type": "execute_result",
          "data": {
            "text/plain": [
              "array([[2],\n",
              "       [8]])"
            ]
          },
          "metadata": {},
          "execution_count": 38
        }
      ]
    },
    {
      "cell_type": "code",
      "source": [
        "#Write a Python program to generate a 1-D array containing 100 values, where each value hasto be 10, 20, 50 or 75.\n",
        "#The probability for the value to be 10 is set to be 0.4\n",
        "#The probability for the value to be 20 is set to be 0.2\n",
        "#The probability for the value to be 50 is set to be 0.1\n",
        "#The probability for the value to be 75 is set to be 0.3\n",
        "\n",
        "a3=np.random.choice((10,20,50,75),100,p=[0.4,0.2,0.1,0.3])\n",
        "a3"
      ],
      "metadata": {
        "colab": {
          "base_uri": "https://localhost:8080/"
        },
        "id": "YUcSXTDQbEia",
        "outputId": "d5717ccf-566f-4b4f-82fb-d228121e89dc"
      },
      "execution_count": null,
      "outputs": [
        {
          "output_type": "execute_result",
          "data": {
            "text/plain": [
              "array([75, 10, 10, 20, 20, 20, 20, 10, 20, 10, 75, 75, 10, 10, 75, 10, 10,\n",
              "       20, 10, 10, 10, 20, 75, 10, 10, 50, 20, 20, 75, 75, 50, 10, 10, 10,\n",
              "       75, 75, 50, 75, 75, 10, 10, 20, 20, 75, 20, 10, 75, 75, 10, 20, 75,\n",
              "       50, 20, 50, 75, 75, 75, 10, 10, 10, 75, 75, 20, 75, 75, 20, 50, 10,\n",
              "       10, 50, 10, 20, 75, 10, 10, 10, 10, 10, 10, 75, 10, 20, 20, 75, 75,\n",
              "       10, 20, 10, 10, 20, 50, 10, 10, 10, 75, 20, 10, 20, 10, 75])"
            ]
          },
          "metadata": {},
          "execution_count": 51
        }
      ]
    }
  ]
}